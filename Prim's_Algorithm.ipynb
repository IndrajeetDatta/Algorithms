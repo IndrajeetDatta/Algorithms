{
  "nbformat": 4,
  "nbformat_minor": 0,
  "metadata": {
    "colab": {
      "name": "st120644-Indrajeet-Datta-DSA-Assignment-9-2-Prim's-Algorithm.ipynb",
      "provenance": [],
      "collapsed_sections": [],
      "include_colab_link": true
    },
    "kernelspec": {
      "display_name": "Python 3",
      "language": "python",
      "name": "python3"
    },
    "language_info": {
      "codemirror_mode": {
        "name": "ipython",
        "version": 3
      },
      "file_extension": ".py",
      "mimetype": "text/x-python",
      "name": "python",
      "nbconvert_exporter": "python",
      "pygments_lexer": "ipython3",
      "version": "3.6.5"
    }
  },
  "cells": [
    {
      "cell_type": "markdown",
      "metadata": {
        "id": "view-in-github",
        "colab_type": "text"
      },
      "source": [
        "<a href=\"https://colab.research.google.com/github/IndrajeetDatta/Algorithms/blob/main/st120644_Indrajeet_Datta_DSA_Assignment_9_2_Prim's_Algorithm.ipynb\" target=\"_parent\"><img src=\"https://colab.research.google.com/assets/colab-badge.svg\" alt=\"Open In Colab\"/></a>"
      ]
    },
    {
      "cell_type": "markdown",
      "metadata": {
        "id": "QM83Vt1GrGJf"
      },
      "source": [
        "Importing the **`math`** library"
      ]
    },
    {
      "cell_type": "code",
      "metadata": {
        "id": "DJjNHetQfOYr"
      },
      "source": [
        "import math"
      ],
      "execution_count": 1,
      "outputs": []
    },
    {
      "cell_type": "markdown",
      "metadata": {
        "id": "Y_NcfQrYrxhM"
      },
      "source": [
        "Defining the  `Node` class.\n",
        "\n",
        "\n",
        "\n"
      ]
    },
    {
      "cell_type": "code",
      "metadata": {
        "id": "x7I1zlokBrt8"
      },
      "source": [
        "class Node:\n",
        "  def __init__(self, index, key=math.inf):\n",
        "    self.index = index\n",
        "    self.next = None\n",
        "    self.key = key\n",
        "    self.parent = None"
      ],
      "execution_count": 2,
      "outputs": []
    },
    {
      "cell_type": "markdown",
      "metadata": {
        "id": "Xp98tmWPtJ3h"
      },
      "source": [
        "Defining the `PriorityQueue` class."
      ]
    },
    {
      "cell_type": "code",
      "metadata": {
        "id": "NBntiCq2CAsu"
      },
      "source": [
        "class PriorityQueue:\n",
        "  \n",
        "  def __init__(self):\n",
        "    self.p = None\n",
        "    self.r = None \n",
        "\n",
        "  def is_empty(self):\n",
        "    if self.p == None:\n",
        "      return True\n",
        "  \n",
        "  def ENQUEUE(self, Node):\n",
        "    x = self.p\n",
        "    if self.is_empty():\n",
        "      self.p = Node\n",
        "      self.r = Node\n",
        "    else:\n",
        "      if self.p.key >= Node.key:\n",
        "        original_p = self.p\n",
        "        self.p = Node\n",
        "        self.p.next = original_p\n",
        "      elif self.r.key < Node.key:\n",
        "        self.r.next = Node\n",
        "        self.r = Node\n",
        "      else:\n",
        "        y = x\n",
        "        while x.next != None and x.key < Node.key:\n",
        "          y = x\n",
        "          x = x.next\n",
        "        y.next = Node\n",
        "        Node.next = x\n",
        "      \n",
        "  def DEQUEUE(self):\n",
        "\n",
        "    if self.is_empty():\n",
        "      return None\n",
        "    x = self.p\n",
        "    if self.p == self.r:\n",
        "      self.p = None\n",
        "      self.r = None\n",
        "    else:\n",
        "      self.p = self.p.next\n",
        "    return x\n",
        "  \n",
        "  def DECREASE_KEY(self, index, key):\n",
        "    x = self.p\n",
        "    y = None\n",
        "    while x.index != index:\n",
        "      y = x \n",
        "      x = x.next\n",
        "    x.key = key\n",
        "    if x == self.p:\n",
        "      return\n",
        "    elif x == self.r:\n",
        "      y.next = None\n",
        "      self.r = y \n",
        "      self.ENQUEUE(x)\n",
        "    else:\n",
        "      y.next = x.next\n",
        "      self.ENQUEUE(x)\n",
        "    \n",
        "  def has(self, V):\n",
        "    x = self.p\n",
        "\n",
        "    while(x != None and x.index != V.index):\n",
        "      x = x.next \n",
        "    if x == None:\n",
        "      return False\n",
        "    return True\n",
        "\n",
        "  def print_queue(self):\n",
        "    x = self.p\n",
        "    if x == None:\n",
        "      return\n",
        "    index = x.index\n",
        "    key = x.key\n",
        "    print(index, \"|\", key, \"|\", end=' ')\n",
        "    x = x.next\n",
        "    while x != None:\n",
        "      index = x.index\n",
        "      key = x.key\n",
        "      print(\" >=======>|\", index, \"|\", key, \"|\", end=' ')\n",
        "      x = x.next"
      ],
      "execution_count": 3,
      "outputs": []
    },
    {
      "cell_type": "code",
      "metadata": {
        "id": "SuvxcLQx0Z1L"
      },
      "source": [
        "class Graph:\n",
        "  def __init__(self, vertices, weights):\n",
        "    self.vertices = vertices\n",
        "    self.weights = weights\n",
        "    self.Adj = {}\n",
        "    for vertex in self.vertices:\n",
        "      self.Adj[vertex.index] = []\n",
        "    for key, value in weights.items():\n",
        "      self.Adj[key[0].index].append({key[1]:value})\n",
        "  \n",
        "  def print_graph(self):\n",
        "    for idx,i in enumerate(self.vertices):\n",
        "      if idx % 3 == 0:\n",
        "        print(\"    %.2d      %.2d  \"%(self.weights[(self.vertices[idx],self.vertices[idx+1])], self.weights[(self.vertices[idx+1], self.vertices[idx+2])]))\n",
        "        print(\"  \",end='')\n",
        "      print(i.index,end=' ')\n",
        "      if(idx + 1) % 3 == 0 and idx <= 5:\n",
        "        print()\n",
        "        print('%.2d|    %.2d|    %.2d|'%(self.weights[(self.vertices[idx-2], self.vertices[idx+1])], self.weights[(self.vertices[idx-1], self.vertices[idx+2])], self.weights[(self.vertices[idx], self.vertices[idx+3])]))\n",
        "        print('  |      |      |')\n",
        "      elif idx != 8:\n",
        "        print('--- ', end=' ')\n",
        "    "
      ],
      "execution_count": 4,
      "outputs": []
    },
    {
      "cell_type": "code",
      "metadata": {
        "id": "C8KbS6C6DTKV"
      },
      "source": [
        "def Build_PQ(vertices):\n",
        "  PQ = PriorityQueue()\n",
        "  for vertex in vertices:\n",
        "    PQ.ENQUEUE(vertex)\n",
        "  return PQ"
      ],
      "execution_count": 5,
      "outputs": []
    },
    {
      "cell_type": "code",
      "metadata": {
        "id": "Xz5A_B0IdUFR"
      },
      "source": [
        "def MST_PRIM(graph, root):\n",
        "  v_mst = []\n",
        "  for node in graph.vertices:\n",
        "    node.key = math.inf\n",
        "    node.parent = None\n",
        "  root.key = 0\n",
        "\n",
        "  Q = Build_PQ(graph.vertices)\n",
        "  print(\"Initial Priority Queue\")\n",
        "  Q.print_queue()\n",
        "  print()\n",
        "  print(\"-------------------------------------------------------------------------------------------------------------------------------------------------------------\")\n",
        "  while not Q.is_empty():\n",
        "    u = Q.DEQUEUE()\n",
        "    v_mst.append(u)\n",
        "    print(u.index, \"is the next min node\")\n",
        "    Q.print_queue()\n",
        "    print()\n",
        "    print(\"-----------------------------------------------------------------------------------------------------------------------------------------------------------\")\n",
        "\n",
        "    for v in graph.Adj[u.index]:\n",
        "      v_ = list(v.keys())[0]\n",
        "      if Q.has(v_) and graph.weights[(u, v_)] < v_.key:\n",
        "        v_.parent = u\n",
        "        print(\"Adjusting the key of the adjacent node: \")\n",
        "        print(v_.index, \"from\", v_.key, \"to\", graph.weights[(u, v_)])\n",
        "        Q.DECREASE_KEY(v_.index, graph.weights[(u,v_)])\n",
        "        print()\n",
        "        print(\"-------------------------------------------------------------------------------------------------------------------------------------------------------\")\n",
        "  return v_mst"
      ],
      "execution_count": 6,
      "outputs": []
    },
    {
      "cell_type": "code",
      "metadata": {
        "id": "_MC7biuHej3i"
      },
      "source": [
        "a = Node('A')\n",
        "b = Node('B')\n",
        "c = Node('C')\n",
        "d = Node('D')\n",
        "e = Node('E')\n",
        "f = Node('F')\n",
        "g = Node('G')\n",
        "h = Node('H')\n",
        "i = Node('I')"
      ],
      "execution_count": 7,
      "outputs": []
    },
    {
      "cell_type": "code",
      "metadata": {
        "id": "XDJHjCcTfD5a"
      },
      "source": [
        "vertices = [g, h, i, a, b, c, d, e, f]"
      ],
      "execution_count": 8,
      "outputs": []
    },
    {
      "cell_type": "code",
      "metadata": {
        "id": "_-wZyOEagHg7"
      },
      "source": [
        "weights = {\n",
        "    (g, h): 6, (h, g): 6,\n",
        "    (g, a): 20, (a, g): 20,\n",
        "    (a, d): 10, (d, a): 10,\n",
        "    (d, e): 4, (e, d): 4,\n",
        "    (e, f): 4, (f, e): 4,\n",
        "    (f, c): 10, (c, f): 10,\n",
        "    (c, i): 20, (i, c): 20,\n",
        "    (i, h): 6, (h, i): 6,\n",
        "    (b, h): 5, (h, b): 5,\n",
        "    (b, a): 15, (a, b): 15,\n",
        "    (b, e): 5, (e, b): 5,\n",
        "    (b, c): 15, (c, b): 15\n",
        "}\n",
        "\n"
      ],
      "execution_count": 9,
      "outputs": []
    },
    {
      "cell_type": "code",
      "metadata": {
        "id": "7ULB6G6e-_20"
      },
      "source": [
        "graph = Graph(vertices, weights)\n",
        "root = a"
      ],
      "execution_count": 10,
      "outputs": []
    },
    {
      "cell_type": "code",
      "metadata": {
        "id": "WbpHUtEmis0h",
        "outputId": "4c4165c8-b414-42e4-c887-f2e952f3b086",
        "colab": {
          "base_uri": "https://localhost:8080/"
        }
      },
      "source": [
        "graph.print_graph()"
      ],
      "execution_count": 12,
      "outputs": [
        {
          "output_type": "stream",
          "text": [
            "    06      06  \n",
            "  G ---  H ---  I \n",
            "20|    05|    20|\n",
            "  |      |      |\n",
            "    15      15  \n",
            "  A ---  B ---  C \n",
            "10|    05|    10|\n",
            "  |      |      |\n",
            "    04      04  \n",
            "  D ---  E ---  F "
          ],
          "name": "stdout"
        }
      ]
    },
    {
      "cell_type": "code",
      "metadata": {
        "id": "8ZwRHoNXlu2j",
        "outputId": "073d749a-d23a-425c-caae-507c07ac787f",
        "colab": {
          "base_uri": "https://localhost:8080/"
        }
      },
      "source": [
        "mst = MST_PRIM(graph, root)"
      ],
      "execution_count": 13,
      "outputs": [
        {
          "output_type": "stream",
          "text": [
            "Initial Priority Queue\n",
            "A | 0 |  >=======>| F | inf |  >=======>| E | inf |  >=======>| D | inf |  >=======>| C | inf |  >=======>| B | inf |  >=======>| I | inf |  >=======>| H | inf |  >=======>| G | inf | \n",
            "-------------------------------------------------------------------------------------------------------------------------------------------------------------\n",
            "A is the next min node\n",
            "F | inf |  >=======>| E | inf |  >=======>| D | inf |  >=======>| C | inf |  >=======>| B | inf |  >=======>| I | inf |  >=======>| H | inf |  >=======>| G | inf | \n",
            "-----------------------------------------------------------------------------------------------------------------------------------------------------------\n",
            "Adjusting the key of the adjacent node: \n",
            "G from inf to 20\n",
            "\n",
            "-------------------------------------------------------------------------------------------------------------------------------------------------------\n",
            "Adjusting the key of the adjacent node: \n",
            "D from inf to 10\n",
            "\n",
            "-------------------------------------------------------------------------------------------------------------------------------------------------------\n",
            "Adjusting the key of the adjacent node: \n",
            "B from inf to 15\n",
            "\n",
            "-------------------------------------------------------------------------------------------------------------------------------------------------------\n",
            "D is the next min node\n",
            "B | 15 |  >=======>| G | 20 |  >=======>| F | inf |  >=======>| E | inf |  >=======>| C | inf |  >=======>| I | inf |  >=======>| H | inf | \n",
            "-----------------------------------------------------------------------------------------------------------------------------------------------------------\n",
            "Adjusting the key of the adjacent node: \n",
            "E from inf to 4\n",
            "\n",
            "-------------------------------------------------------------------------------------------------------------------------------------------------------\n",
            "E is the next min node\n",
            "B | 15 |  >=======>| G | 20 |  >=======>| F | inf |  >=======>| C | inf |  >=======>| I | inf |  >=======>| H | inf | \n",
            "-----------------------------------------------------------------------------------------------------------------------------------------------------------\n",
            "Adjusting the key of the adjacent node: \n",
            "F from inf to 4\n",
            "\n",
            "-------------------------------------------------------------------------------------------------------------------------------------------------------\n",
            "Adjusting the key of the adjacent node: \n",
            "B from 15 to 5\n",
            "\n",
            "-------------------------------------------------------------------------------------------------------------------------------------------------------\n",
            "F is the next min node\n",
            "B | 5 |  >=======>| G | 20 |  >=======>| C | inf |  >=======>| I | inf |  >=======>| H | inf | \n",
            "-----------------------------------------------------------------------------------------------------------------------------------------------------------\n",
            "Adjusting the key of the adjacent node: \n",
            "C from inf to 10\n",
            "\n",
            "-------------------------------------------------------------------------------------------------------------------------------------------------------\n",
            "B is the next min node\n",
            "C | 10 |  >=======>| G | 20 |  >=======>| I | inf |  >=======>| H | inf | \n",
            "-----------------------------------------------------------------------------------------------------------------------------------------------------------\n",
            "Adjusting the key of the adjacent node: \n",
            "H from inf to 5\n",
            "\n",
            "-------------------------------------------------------------------------------------------------------------------------------------------------------\n",
            "H is the next min node\n",
            "C | 10 |  >=======>| G | 20 |  >=======>| I | inf | \n",
            "-----------------------------------------------------------------------------------------------------------------------------------------------------------\n",
            "Adjusting the key of the adjacent node: \n",
            "G from 20 to 6\n",
            "\n",
            "-------------------------------------------------------------------------------------------------------------------------------------------------------\n",
            "Adjusting the key of the adjacent node: \n",
            "I from inf to 6\n",
            "\n",
            "-------------------------------------------------------------------------------------------------------------------------------------------------------\n",
            "I is the next min node\n",
            "G | 6 |  >=======>| C | 10 | \n",
            "-----------------------------------------------------------------------------------------------------------------------------------------------------------\n",
            "G is the next min node\n",
            "C | 10 | \n",
            "-----------------------------------------------------------------------------------------------------------------------------------------------------------\n",
            "C is the next min node\n",
            "\n",
            "-----------------------------------------------------------------------------------------------------------------------------------------------------------\n"
          ],
          "name": "stdout"
        }
      ]
    },
    {
      "cell_type": "markdown",
      "metadata": {
        "id": "2B_7DmBtXtt8"
      },
      "source": [
        "Printing out the returned **Minimum Spanning Tree** from Prim's Algorithm\n",
        "\n"
      ]
    },
    {
      "cell_type": "code",
      "metadata": {
        "id": "kFEe9cWXLys5",
        "outputId": "1bb3176c-9b9d-470e-880a-7df5b85dced0",
        "colab": {
          "base_uri": "https://localhost:8080/"
        }
      },
      "source": [
        "x = 0\n",
        "while x < len(mst)-1:\n",
        "  print(mst[x].index, \" ----->\", end=\" \")\n",
        "  x = x+1\n",
        "print(mst[x].index)"
      ],
      "execution_count": 14,
      "outputs": [
        {
          "output_type": "stream",
          "text": [
            "A  -----> D  -----> E  -----> F  -----> B  -----> H  -----> I  -----> G  -----> C\n"
          ],
          "name": "stdout"
        }
      ]
    }
  ]
}
