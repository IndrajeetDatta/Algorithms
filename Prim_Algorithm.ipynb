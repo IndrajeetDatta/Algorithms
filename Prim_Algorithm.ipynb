{
  "nbformat": 4,
  "nbformat_minor": 0,
  "metadata": {
    "colab": {
      "name": "Prim-Algorithm.ipynb",
      "provenance": [],
      "authorship_tag": "ABX9TyPSHXaRyN+yCcdfY2FRUWJf",
      "include_colab_link": true
    },
    "kernelspec": {
      "name": "python3",
      "display_name": "Python 3"
    }
  },
  "cells": [
    {
      "cell_type": "markdown",
      "metadata": {
        "id": "view-in-github",
        "colab_type": "text"
      },
      "source": [
        "<a href=\"https://colab.research.google.com/github/IndrajeetDatta/Algorithms/blob/main/Prim_Algorithm.ipynb\" target=\"_parent\"><img src=\"https://colab.research.google.com/assets/colab-badge.svg\" alt=\"Open In Colab\"/></a>"
      ]
    },
    {
      "cell_type": "code",
      "metadata": {
        "id": "ZzCD1fkS7m_l"
      },
      "source": [
        "from dataclasses import dataclass, field"
      ],
      "execution_count": 1,
      "outputs": []
    },
    {
      "cell_type": "code",
      "metadata": {
        "id": "Hn3iXktH8Rnf"
      },
      "source": [
        "@dataclass(eq=False)\n",
        "class Node:\n",
        "  idnum : int"
      ],
      "execution_count": 2,
      "outputs": []
    },
    {
      "cell_type": "code",
      "metadata": {
        "id": "nShUrY8e8a1s",
        "outputId": "9efc87dd-1e8b-4e5d-db28-c77069d46ab7",
        "colab": {
          "base_uri": "https://localhost:8080/"
        }
      },
      "source": [
        "@dataclass \n",
        "class Graph:\n",
        "  source : int\n",
        "  adjlist : dict\n",
        "\n",
        "  def PrimsMST(self):\n",
        "    priority_queue = {Node(self.source) : 0 }\n",
        "    added = [False] * len(self.adjlist)\n",
        "    min_span_tree_cost = 0\n",
        "\n",
        "    while priority_queue : \n",
        "      node = min(priority_queue, key=priority_queue.get)\n",
        "      cost = priority_queue[node]\n",
        "      \n",
        "      del priority_queue[node]\n",
        "\n",
        "      if added[node.idnum] == False :\n",
        "        min_span_tree_cost += cost\n",
        "        added[node.idnum] = True\n",
        "        print(\"Added Node: \" + str(node.idnum) + \", cost now: \" + str(min_span_tree_cost))\n",
        "\n",
        "        for item in self.adjlist[node.idnum] :\n",
        "          adjnode = item[0]\n",
        "          adjcost = item[1]\n",
        "          if added[adjnode] == False :\n",
        "            priority_queue[Node(adjnode)] = adjcost\n",
        "\n",
        "    return min_span_tree_cost\n"
      ],
      "execution_count": 6,
      "outputs": [
        {
          "output_type": "stream",
          "text": [
            "Added Node: 0, cost now: 0\n",
            "Added Node: 1, cost now: 1\n",
            "Added Node: 3, cost now: 2\n",
            "Added Node: 4, cost now: 3\n",
            "Added Node: 6, cost now: 4\n",
            "Added Node: 2, cost now: 5\n",
            "Added Node: 5, cost now: 6\n",
            "Cost of the minimum spanning tree in graph 1 : 6\n",
            "\n",
            "Added Node: 0, cost now: 0\n",
            "Added Node: 2, cost now: 1\n",
            "Added Node: 3, cost now: 3\n",
            "Added Node: 4, cost now: 4\n",
            "Added Node: 1, cost now: 6\n",
            "Added Node: 5, cost now: 9\n",
            "Cost of the minimum spanning tree in graph 1 : 9\n"
          ],
          "name": "stdout"
        }
      ]
    },
    {
      "cell_type": "code",
      "metadata": {
        "id": "LX0ICSqv-zrC"
      },
      "source": [
        "def main() :\n",
        "    g1_edges_from_node  = {}\n",
        "    g1_edges_from_node[0] = [ (1,1), (2,2), (3,1), (4,1), (5,2), (6,1) ]\n",
        "    g1_edges_from_node[1] = [ (0,1), (2,2), (6,2) ]\n",
        "    g1_edges_from_node[2] = [ (0,2), (1,2), (3,1) ]\n",
        "    g1_edges_from_node[3] = [ (0,1), (2,1), (4,2) ]\n",
        "    g1_edges_from_node[4] = [ (0,1), (3,2), (5,2) ]\n",
        "    g1_edges_from_node[5] = [ (0,2), (4,2), (6,1) ]\n",
        "    g1_edges_from_node[6] = [ (0,1), (2,2), (5,1) ]\n",
        "\n",
        "    g1 = Graph(0, g1_edges_from_node)\n",
        "    cost = g1.PrimsMST()\n",
        "    print(\"Cost of the minimum spanning tree in graph 1 : \" + str(cost) +\"\\n\")\n",
        "\n",
        "    g2_edges_from_node = {}\n",
        "    g2_edges_from_node[0] = [ (1,4), (2,1), (3,5) ];\n",
        "    g2_edges_from_node[1] = [ (0,4), (3,2), (4,3), (5,3) ];\n",
        "    g2_edges_from_node[2] = [ (0,1), (3,2), (4,8) ];\n",
        "    g2_edges_from_node[3] = [ (0,5), (1,2), (2,2), (4,1) ];\n",
        "    g2_edges_from_node[4] = [ (1,3), (2,8), (3,1), (5,3) ];\n",
        "    g2_edges_from_node[5] = [ (1,3), (4,3) ];\n",
        "\n",
        "    g2 = Graph(0, g2_edges_from_node)\n",
        "    cost = g2.PrimsMST()\n",
        "    print(\"Cost of the minimum spanning tree in graph 1 : \" + str(cost))\n",
        "\n",
        "if __name__ == \"__main__\" :\n",
        "    main()\n",
        "\n"
      ],
      "execution_count": null,
      "outputs": []
    },
    {
      "cell_type": "code",
      "metadata": {
        "id": "EPcKIpz7-Z5R"
      },
      "source": [
        ""
      ],
      "execution_count": null,
      "outputs": []
    }
  ]
}